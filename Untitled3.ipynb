{
  "nbformat": 4,
  "nbformat_minor": 0,
  "metadata": {
    "colab": {
      "provenance": []
    },
    "kernelspec": {
      "name": "python3",
      "display_name": "Python 3"
    },
    "language_info": {
      "name": "python"
    }
  },
  "cells": [
    {
      "cell_type": "markdown",
      "source": [],
      "metadata": {
        "id": "ruwdPIAD5sdm"
      }
    },
    {
      "cell_type": "code",
      "source": [
        "# What is the difference between a function and a method in Python?"
      ],
      "metadata": {
        "id": "daytxdA47TeC"
      },
      "execution_count": null,
      "outputs": []
    },
    {
      "cell_type": "markdown",
      "source": [
        "unction: A function is a block of code that is defined outside of a class and performs a specific task. Functions can be called independently.\n",
        "\n",
        "Method: A method is a function that is associated with an object and is defined inside a class. Methods usually operate on the object they belong to and may alter its state.\n",
        "\n",
        "Example:\n",
        "\n",
        "\n",
        "# Function\n",
        "def greet(name):\n",
        "    return f\"Hello, {name}\"\n",
        "\n",
        "print(greet(\"Rishabh\"))  # Output: Hello, Rishabh\n",
        "\n",
        "# Method\n",
        "class Person:\n",
        "    def greet(self, name):\n",
        "        return f\"Hello, {name}\"\n",
        "\n",
        "p = Person()\n",
        "print(p.greet(\"Rishabh\"))  # Output: Hello, Rishabh"
      ],
      "metadata": {
        "id": "XFo52P2789pk"
      }
    },
    {
      "cell_type": "code",
      "source": [
        "# Explain the concept of function arguments and parameters in Python."
      ],
      "metadata": {
        "id": "kbjoGvKE9CWv"
      },
      "execution_count": null,
      "outputs": []
    },
    {
      "cell_type": "markdown",
      "source": [
        "Parameters: These are variables defined in the function signature. They act as placeholders.\n",
        "Arguments: These are actual values passed to the function when it is called.\n",
        "Example:\n",
        "\n",
        "\n",
        "# Parameters: x, y\n",
        "def add(x, y):\n",
        "    return x + y\n",
        "\n",
        "# Arguments: 10, 20\n",
        "result = add(10, 20)\n",
        "print(result)  # Output: 30\n"
      ],
      "metadata": {
        "id": "SIfb5eHE-EWW"
      }
    },
    {
      "cell_type": "code",
      "source": [
        "#  What are the different ways to define and call a function in Python?"
      ],
      "metadata": {
        "id": "GwMEB3N2-I1m"
      },
      "execution_count": null,
      "outputs": []
    },
    {
      "cell_type": "markdown",
      "source": [
        "Define a function using the def keyword, followed by the function name and parameters.\n",
        "Call a function by using the function name followed by parentheses containing arguments (if any).\n",
        "Example:\n",
        "\n",
        "\n",
        "# Simple function definition\n",
        "def say_hello():\n",
        "    return \"Hello!\"\n",
        "\n",
        "# Calling the function\n",
        "print(say_hello())  # Output: Hello!\n"
      ],
      "metadata": {
        "id": "cmgGtOyP-NPO"
      }
    },
    {
      "cell_type": "code",
      "source": [
        "# What is the purpose of the return statement in a Python function?"
      ],
      "metadata": {
        "id": "YIXo2-Zt-SRa"
      },
      "execution_count": null,
      "outputs": []
    },
    {
      "cell_type": "markdown",
      "source": [
        "The return statement is used to exit a function and return a value back to the caller. Without return, the function will return None.\n",
        "\n",
        "Example:\n",
        "\n",
        "\n",
        "def multiply(x, y):\n",
        "    return x * y\n",
        "\n",
        "result = multiply(5, 3)\n",
        "print(result)  # Output: 15"
      ],
      "metadata": {
        "id": "dTVwFZII-Wjw"
      }
    },
    {
      "cell_type": "code",
      "source": [
        "# What are iterators in Python, and how do they differ from iterables?"
      ],
      "metadata": {
        "id": "UuXc_eHt-af7"
      },
      "execution_count": null,
      "outputs": []
    },
    {
      "cell_type": "markdown",
      "source": [
        "Iterable: An object that can return an iterator, like lists, tuples, or strings.\n",
        "Iterator: An object that keeps state and produces the next value when the next() function is called.\n",
        "Example:\n",
        "\n",
        "\n",
        "# Iterable\n",
        "my_list = [1, 2, 3]\n",
        "\n",
        "# Iterator\n",
        "iterator = iter(my_list)\n",
        "\n",
        "print(next(iterator))  # Output: 1\n",
        "print(next(iterator))  # Output: 2"
      ],
      "metadata": {
        "id": "iHrrPHOf-f_s"
      }
    },
    {
      "cell_type": "code",
      "source": [
        "# Explain the concept of generators in Python and how they are defined."
      ],
      "metadata": {
        "id": "RaHhkgRC-kjS"
      },
      "execution_count": null,
      "outputs": []
    },
    {
      "cell_type": "markdown",
      "source": [
        "A generator is a function that returns an iterator and yields values one at a time instead of returning them all at once. It is defined using the yield keyword.\n",
        "Example:\n",
        "\n",
        "\n",
        "def countdown(n):\n",
        "    while n > 0:\n",
        "        yield n\n",
        "        n -= 1\n",
        "\n",
        "gen = countdown(5)\n",
        "print(next(gen))  # Output: 5\n",
        "print(next(gen))  # Output: 4"
      ],
      "metadata": {
        "id": "HMmLNKpj-oCw"
      }
    },
    {
      "cell_type": "code",
      "source": [
        "# What are the advantages of using generators over regular functions?"
      ],
      "metadata": {
        "id": "FBRDaXWl-rts"
      },
      "execution_count": null,
      "outputs": []
    },
    {
      "cell_type": "markdown",
      "source": [
        "Memory efficiency: Generators produce values one at a time, making them memory-efficient, especially for large datasets.\n",
        "Lazy evaluation: Values are generated on-demand rather than all at once.\n",
        "Example:\n",
        "\n",
        "\n",
        "# Generator\n",
        "def square_numbers(nums):\n",
        "    for i in nums:\n",
        "        yield i * i\n",
        "\n",
        "squares = square_numbers([1, 2, 3, 4, 5])\n",
        "\n",
        "for num in squares:\n",
        "    print(num)  # Outputs: 1, 4, 9, 16, 25"
      ],
      "metadata": {
        "id": "Hqba8SlU-xBv"
      }
    },
    {
      "cell_type": "code",
      "source": [
        "# What is a lambda function in Python and when is it typically used?"
      ],
      "metadata": {
        "id": "0yW70Lt_-1Kf"
      },
      "execution_count": null,
      "outputs": []
    },
    {
      "cell_type": "markdown",
      "source": [
        "A lambda function is an anonymous function defined using the lambda keyword. It is typically used for short, throwaway functions that are not reused.\n",
        "Example:\n",
        "\n",
        "\n",
        "# Lambda function to double a number\n",
        "double = lambda x: x * 2\n",
        "\n",
        "print(double(5))  # Output: 10\n"
      ],
      "metadata": {
        "id": "ORWr_i4P-5d1"
      }
    },
    {
      "cell_type": "code",
      "source": [
        "# Explain the purpose and usage of the map() function in Python."
      ],
      "metadata": {
        "id": "Gfvi88bg-8f6"
      },
      "execution_count": null,
      "outputs": []
    },
    {
      "cell_type": "markdown",
      "source": [
        "The map() function applies a given function to all items in an iterable (like a list) and returns an iterator.\n",
        "\n",
        "Example:\n",
        "\n",
        "\n",
        "# Function to square a number\n",
        "def square(x):\n",
        "    return x * x\n",
        "\n",
        "numbers = [1, 2, 3, 4]\n",
        "squared_numbers = map(square, numbers)\n",
        "\n",
        "print(list(squared_numbers))  # Output: [1, 4, 9, 16]\n"
      ],
      "metadata": {
        "id": "mijz7Vjv-_1B"
      }
    },
    {
      "cell_type": "code",
      "source": [
        "# What is the difference between map(), reduce(), and filter() functions in Python?"
      ],
      "metadata": {
        "id": "ThTf8dV9_C95"
      },
      "execution_count": null,
      "outputs": []
    },
    {
      "cell_type": "markdown",
      "source": [
        "map(): Applies a function to each item of an iterable.\n",
        "reduce(): Reduces the iterable to a single value by applying a function cumulatively.\n",
        "filter(): Filters elements in an iterable based on a condition.\n",
        "Example:\n",
        "\n",
        "\n",
        "from functools import reduce\n",
        "\n",
        "# map\n",
        "nums = [1, 2, 3]\n",
        "squares = list(map(lambda x: x * x, nums))\n",
        "print(squares)  # Output: [1, 4, 9]\n",
        "\n",
        "# reduce\n",
        "sum_of_nums = reduce(lambda x, y: x + y, nums)\n",
        "print(sum_of_nums)  # Output: 6\n",
        "\n",
        "# filter\n",
        "even_nums = list(filter(lambda x: x % 2 == 0, nums))\n",
        "print(even_nums)  # Output: [2]"
      ],
      "metadata": {
        "id": "PB5yXSCU_GZl"
      }
    },
    {
      "cell_type": "code",
      "source": [
        "# Using pen & paper, write the internal mechanism for sum operation using the reduce() function on the given list [47, 11, 42, 13]."
      ],
      "metadata": {
        "id": "z0yQR-79_KTa"
      },
      "execution_count": null,
      "outputs": []
    },
    {
      "cell_type": "markdown",
      "source": [
        "The reduce() function applies the function cumulatively to the items of the list. Here’s the mechanism using reduce() for summing up the list:\n",
        "\n",
        "Initial list: [47, 11, 42, 13]\n",
        "First, 47 + 11 = 58\n",
        "Next, 58 + 42 = 100\n",
        "Finally, 100 + 13 = 113\n",
        "Code Example:\n",
        "\n",
        "\n",
        "from functools import reduce\n",
        "\n",
        "nums = [47, 11, 42, 13]\n",
        "sum_total = reduce(lambda x, y: x + y, nums)\n",
        "\n",
        "print(sum_total)  # Output: 113"
      ],
      "metadata": {
        "id": "tQEsdfdj_Odr"
      }
    },
    {
      "cell_type": "code",
      "source": [
        "#Practical Question"
      ],
      "metadata": {
        "id": "ZrL7qYh3_SYL"
      },
      "execution_count": 1,
      "outputs": []
    },
    {
      "cell_type": "code",
      "source": [
        "# Write a Python function that takes a list of numbers as input and returns the sum of all even numbers in the list.\n",
        "\n",
        "def sum_even_numbers(numbers):\n",
        "    return sum(num for num in numbers if num % 2 == 0)\n",
        "\n",
        "# Example usage\n",
        "result = sum_even_numbers([1, 2, 3, 4, 5, 6])\n",
        "print(result)  # Output: 12\n"
      ],
      "metadata": {
        "colab": {
          "base_uri": "https://localhost:8080/"
        },
        "id": "oT6ta7hbBmNA",
        "outputId": "c07c3db5-7f83-4ff2-bf12-0999e15f2a44"
      },
      "execution_count": 1,
      "outputs": [
        {
          "output_type": "stream",
          "name": "stdout",
          "text": [
            "12\n"
          ]
        }
      ]
    },
    {
      "cell_type": "code",
      "source": [
        "# Create a Python function that accepts a string and returns the reverse of that string.\n",
        "\n",
        "def reverse_string(s):\n",
        "    return s[::-1]\n",
        "\n",
        "# Example usage\n",
        "result = reverse_string(\"Hello\")\n",
        "print(result)  # Output: \"olleH\"\n"
      ],
      "metadata": {
        "colab": {
          "base_uri": "https://localhost:8080/"
        },
        "id": "4XOiBTha9L1U",
        "outputId": "f313eac6-3381-4990-dfea-716dc0db6b96"
      },
      "execution_count": 2,
      "outputs": [
        {
          "output_type": "stream",
          "name": "stdout",
          "text": [
            "olleH\n"
          ]
        }
      ]
    },
    {
      "cell_type": "code",
      "source": [
        "# Implement a Python function that takes a list of integers and returns a new list containing the squares of each number.\n",
        "\n",
        "def square_numbers(numbers):\n",
        "    return [num ** 2 for num in numbers]\n",
        "\n",
        "# Example usage\n",
        "result = square_numbers([1, 2, 3, 4, 5])\n",
        "print(result)  # Output: [1, 4, 9, 16, 25]\n"
      ],
      "metadata": {
        "colab": {
          "base_uri": "https://localhost:8080/"
        },
        "id": "U7sltMdj9VDQ",
        "outputId": "44cd791d-4726-46c3-80a4-7642a108011c"
      },
      "execution_count": 3,
      "outputs": [
        {
          "output_type": "stream",
          "name": "stdout",
          "text": [
            "[1, 4, 9, 16, 25]\n"
          ]
        }
      ]
    },
    {
      "cell_type": "code",
      "source": [
        "# Write a Python function that checks if a given number is prime or not from 1 to 200.\n",
        "\n",
        "def is_prime(num):\n",
        "    if num <= 1:\n",
        "        return False\n",
        "    for i in range(2, int(num**0.5) + 1):\n",
        "        if num % i == 0:\n",
        "            return False\n",
        "    return True\n",
        "\n",
        "# Example usage\n",
        "for n in range(1, 201):\n",
        "    if is_prime(n):\n",
        "        print(n, end=\" \")  # Prints all prime numbers from 1 to 200\n"
      ],
      "metadata": {
        "colab": {
          "base_uri": "https://localhost:8080/"
        },
        "id": "jZir9AxH-Aaz",
        "outputId": "5c39f18c-6144-45dd-f20c-74e85566cd0b"
      },
      "execution_count": 4,
      "outputs": [
        {
          "output_type": "stream",
          "name": "stdout",
          "text": [
            "2 3 5 7 11 13 17 19 23 29 31 37 41 43 47 53 59 61 67 71 73 79 83 89 97 101 103 107 109 113 127 131 137 139 149 151 157 163 167 173 179 181 191 193 197 199 "
          ]
        }
      ]
    },
    {
      "cell_type": "code",
      "source": [
        "# Create an iterator class in Python that generates the Fibonacci sequence up to a specified number of terms.\n",
        "\n",
        "class FibonacciIterator:\n",
        "    def __init__(self, terms):\n",
        "        self.terms = terms\n",
        "        self.current, self.previous = 0, 1\n",
        "        self.count = 0\n",
        "\n",
        "    def __iter__(self):\n",
        "        return self\n",
        "\n",
        "    def __next__(self):\n",
        "        if self.count < self.terms:\n",
        "            fib_number = self.current\n",
        "            self.current, self.previous = self.previous, self.current + self.previous\n",
        "            self.count += 1\n",
        "            return fib_number\n",
        "        else:\n",
        "            raise StopIteration\n",
        "\n",
        "# Example usage\n",
        "fib = FibonacciIterator(10)\n",
        "for number in fib:\n",
        "    print(number, end=\" \")  # Output: 0 1 1 2 3 5 8 13 21 34\n"
      ],
      "metadata": {
        "colab": {
          "base_uri": "https://localhost:8080/"
        },
        "id": "gY7keWxu-Izg",
        "outputId": "04966d88-b194-4374-eca1-deb9ed1f2b96"
      },
      "execution_count": 5,
      "outputs": [
        {
          "output_type": "stream",
          "name": "stdout",
          "text": [
            "0 1 1 2 3 5 8 13 21 34 "
          ]
        }
      ]
    },
    {
      "cell_type": "code",
      "source": [
        "# Write a generator function in Python that yields the powers of 2 up to a given exponent.\n",
        "\n",
        "def powers_of_two(exponent):\n",
        "    for i in range(exponent + 1):\n",
        "        yield 2 ** i\n",
        "\n",
        "# Example usage\n",
        "for power in powers_of_two(5):\n",
        "    print(power, end=\" \")  # Output: 1 2 4 8 16 32\n"
      ],
      "metadata": {
        "colab": {
          "base_uri": "https://localhost:8080/"
        },
        "id": "v7ztrvb3-QW9",
        "outputId": "d1876534-2783-41ce-b0e9-a6dd0afdce0b"
      },
      "execution_count": 6,
      "outputs": [
        {
          "output_type": "stream",
          "name": "stdout",
          "text": [
            "1 2 4 8 16 32 "
          ]
        }
      ]
    },
    {
      "cell_type": "code",
      "source": [
        "# Implement a generator function that reads a file line by line and yields each line as a string.\n",
        "\n",
        "def read_file_line_by_line(file_path):\n",
        "    with open(file_path, 'r') as file:\n",
        "        for line in file:\n",
        "            yield line.strip()  # Strip removes leading/trailing whitespace\n",
        "\n",
        "# Example usage (assuming 'example.txt' exists)\n",
        "# for line in read_file_line_by_line('example.txt'):\n",
        "#     print(line)\n"
      ],
      "metadata": {
        "id": "JwfCF1hX-Xw5"
      },
      "execution_count": 9,
      "outputs": []
    },
    {
      "cell_type": "code",
      "source": [
        "# Use a lambda function in Python to sort a list of tuples based on the second element of each tuple.\n",
        "\n",
        "data = [(1, 3), (2, 1), (4, 2)]\n",
        "sorted_data = sorted(data, key=lambda x: x[1])\n",
        "\n",
        "# Example usage\n",
        "print(sorted_data)  # Output: [(2, 1), (4, 2), (1, 3)]\n"
      ],
      "metadata": {
        "colab": {
          "base_uri": "https://localhost:8080/"
        },
        "id": "-ui_zlkD-dgE",
        "outputId": "2936de02-cbbe-4124-9469-4164fe85366a"
      },
      "execution_count": 10,
      "outputs": [
        {
          "output_type": "stream",
          "name": "stdout",
          "text": [
            "[(2, 1), (4, 2), (1, 3)]\n"
          ]
        }
      ]
    },
    {
      "cell_type": "code",
      "source": [
        "# Write a Python program that uses map() to convert a list of temperatures from Celsius to Fahrenheit.\n",
        "\n",
        "def celsius_to_fahrenheit(celsius):\n",
        "    return (celsius * 9/5) + 32\n",
        "\n",
        "celsius_temps = [0, 20, 100]\n",
        "fahrenheit_temps = list(map(celsius_to_fahrenheit, celsius_temps))\n",
        "\n",
        "# Example usage\n",
        "print(fahrenheit_temps)  # Output: [32.0, 68.0, 212.0]\n"
      ],
      "metadata": {
        "colab": {
          "base_uri": "https://localhost:8080/"
        },
        "id": "ZQfvFPG7-n0L",
        "outputId": "f63aefa7-8a99-4c78-8129-f8071249d951"
      },
      "execution_count": 11,
      "outputs": [
        {
          "output_type": "stream",
          "name": "stdout",
          "text": [
            "[32.0, 68.0, 212.0]\n"
          ]
        }
      ]
    },
    {
      "cell_type": "code",
      "source": [
        "# Create a Python program that uses filter() to remove all the vowels from a given string.\n",
        "\n",
        "def remove_vowels(s):\n",
        "    vowels = \"aeiouAEIOU\"\n",
        "    return ''.join(filter(lambda x: x not in vowels, s))\n",
        "\n",
        "# Example usage\n",
        "result = remove_vowels(\"Hello World\")\n",
        "print(result)  # Output: \"Hll Wrld\"\n"
      ],
      "metadata": {
        "colab": {
          "base_uri": "https://localhost:8080/"
        },
        "id": "CkC3vTIn-uGj",
        "outputId": "183b4fa3-dc45-415c-db49-635494a2ea2b"
      },
      "execution_count": 12,
      "outputs": [
        {
          "output_type": "stream",
          "name": "stdout",
          "text": [
            "Hll Wrld\n"
          ]
        }
      ]
    },
    {
      "cell_type": "code",
      "source": [
        "# Write a Python program that returns a list with 2-tuples for an accounting routine used in a bookshop.\n",
        "orders = [\n",
        "    [1, 20.0, 3],  # [order_number, price_per_item, quantity]\n",
        "    [2, 15.0, 4],\n",
        "    [3, 5.0, 5],\n",
        "]\n",
        "\n",
        "def calculate_orders(orders):\n",
        "    return list(map(lambda x: (x[0], (x[1] * x[2]) + (10 if (x[1] * x[2]) < 100 else 0)), orders))\n",
        "\n",
        "# Example usage\n",
        "result = calculate_orders(orders)\n",
        "print(result)  # Output: [(1, 70.0), (2, 70.0), (3, 35.0)]\n"
      ],
      "metadata": {
        "colab": {
          "base_uri": "https://localhost:8080/"
        },
        "id": "SPX86nKh-0D8",
        "outputId": "274c5f3f-8d52-4795-dbeb-8c97afa90308"
      },
      "execution_count": 13,
      "outputs": [
        {
          "output_type": "stream",
          "name": "stdout",
          "text": [
            "[(1, 70.0), (2, 70.0), (3, 35.0)]\n"
          ]
        }
      ]
    }
  ]
}